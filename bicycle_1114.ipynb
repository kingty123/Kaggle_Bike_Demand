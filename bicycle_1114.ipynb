{
  "nbformat": 4,
  "nbformat_minor": 0,
  "metadata": {
    "colab": {
      "provenance": []
    },
    "kernelspec": {
      "name": "python3",
      "display_name": "Python 3"
    },
    "language_info": {
      "name": "python"
    }
  },
  "cells": [
    {
      "cell_type": "code",
      "source": [
        "import pandas as pd\n",
        "import numpy as np\n",
        "import torch\n",
        "import torch.nn as nn\n",
        "from sklearn.model_selection import train_test_split\n",
        "from sklearn.preprocessing import StandardScaler\n",
        "from sklearn.metrics import mean_squared_error, mean_absolute_error"
      ],
      "metadata": {
        "id": "NMqjVMuLEOK9"
      },
      "execution_count": 1,
      "outputs": []
    },
    {
      "cell_type": "code",
      "source": [
        "\n",
        "# 데이터 불러오기\n",
        "train = pd.read_csv('train.csv')\n",
        "test = pd.read_csv('test.csv')\n",
        "\n",
        "# datetime 컬럼을 datetime 타입으로 변환\n",
        "train['datetime'] = pd.to_datetime(train['datetime'])\n",
        "test['datetime'] = pd.to_datetime(test['datetime'])\n"
      ],
      "metadata": {
        "id": "624ZVX4kGNy4"
      },
      "execution_count": 2,
      "outputs": []
    },
    {
      "cell_type": "code",
      "source": [
        "train['datetime']"
      ],
      "metadata": {
        "colab": {
          "base_uri": "https://localhost:8080/",
          "height": 458
        },
        "id": "0TZ2V-DBGRhx",
        "outputId": "72728132-0b71-4266-f509-143e19e78604"
      },
      "execution_count": 3,
      "outputs": [
        {
          "output_type": "execute_result",
          "data": {
            "text/plain": [
              "0       2011-01-01 00:00:00\n",
              "1       2011-01-01 01:00:00\n",
              "2       2011-01-01 02:00:00\n",
              "3       2011-01-01 03:00:00\n",
              "4       2011-01-01 04:00:00\n",
              "                ...        \n",
              "10881   2012-12-19 19:00:00\n",
              "10882   2012-12-19 20:00:00\n",
              "10883   2012-12-19 21:00:00\n",
              "10884   2012-12-19 22:00:00\n",
              "10885   2012-12-19 23:00:00\n",
              "Name: datetime, Length: 10886, dtype: datetime64[ns]"
            ],
            "text/html": [
              "<div>\n",
              "<style scoped>\n",
              "    .dataframe tbody tr th:only-of-type {\n",
              "        vertical-align: middle;\n",
              "    }\n",
              "\n",
              "    .dataframe tbody tr th {\n",
              "        vertical-align: top;\n",
              "    }\n",
              "\n",
              "    .dataframe thead th {\n",
              "        text-align: right;\n",
              "    }\n",
              "</style>\n",
              "<table border=\"1\" class=\"dataframe\">\n",
              "  <thead>\n",
              "    <tr style=\"text-align: right;\">\n",
              "      <th></th>\n",
              "      <th>datetime</th>\n",
              "    </tr>\n",
              "  </thead>\n",
              "  <tbody>\n",
              "    <tr>\n",
              "      <th>0</th>\n",
              "      <td>2011-01-01 00:00:00</td>\n",
              "    </tr>\n",
              "    <tr>\n",
              "      <th>1</th>\n",
              "      <td>2011-01-01 01:00:00</td>\n",
              "    </tr>\n",
              "    <tr>\n",
              "      <th>2</th>\n",
              "      <td>2011-01-01 02:00:00</td>\n",
              "    </tr>\n",
              "    <tr>\n",
              "      <th>3</th>\n",
              "      <td>2011-01-01 03:00:00</td>\n",
              "    </tr>\n",
              "    <tr>\n",
              "      <th>4</th>\n",
              "      <td>2011-01-01 04:00:00</td>\n",
              "    </tr>\n",
              "    <tr>\n",
              "      <th>...</th>\n",
              "      <td>...</td>\n",
              "    </tr>\n",
              "    <tr>\n",
              "      <th>10881</th>\n",
              "      <td>2012-12-19 19:00:00</td>\n",
              "    </tr>\n",
              "    <tr>\n",
              "      <th>10882</th>\n",
              "      <td>2012-12-19 20:00:00</td>\n",
              "    </tr>\n",
              "    <tr>\n",
              "      <th>10883</th>\n",
              "      <td>2012-12-19 21:00:00</td>\n",
              "    </tr>\n",
              "    <tr>\n",
              "      <th>10884</th>\n",
              "      <td>2012-12-19 22:00:00</td>\n",
              "    </tr>\n",
              "    <tr>\n",
              "      <th>10885</th>\n",
              "      <td>2012-12-19 23:00:00</td>\n",
              "    </tr>\n",
              "  </tbody>\n",
              "</table>\n",
              "<p>10886 rows × 1 columns</p>\n",
              "</div><br><label><b>dtype:</b> datetime64[ns]</label>"
            ]
          },
          "metadata": {},
          "execution_count": 3
        }
      ]
    },
    {
      "cell_type": "code",
      "source": [
        "test['datetime']"
      ],
      "metadata": {
        "colab": {
          "base_uri": "https://localhost:8080/",
          "height": 458
        },
        "id": "aQbUWsMIGYrV",
        "outputId": "1ead42ae-bd87-4d56-b6ba-a1e8a00e8a0d"
      },
      "execution_count": 4,
      "outputs": [
        {
          "output_type": "execute_result",
          "data": {
            "text/plain": [
              "0      2011-01-20 00:00:00\n",
              "1      2011-01-20 01:00:00\n",
              "2      2011-01-20 02:00:00\n",
              "3      2011-01-20 03:00:00\n",
              "4      2011-01-20 04:00:00\n",
              "               ...        \n",
              "6488   2012-12-31 19:00:00\n",
              "6489   2012-12-31 20:00:00\n",
              "6490   2012-12-31 21:00:00\n",
              "6491   2012-12-31 22:00:00\n",
              "6492   2012-12-31 23:00:00\n",
              "Name: datetime, Length: 6493, dtype: datetime64[ns]"
            ],
            "text/html": [
              "<div>\n",
              "<style scoped>\n",
              "    .dataframe tbody tr th:only-of-type {\n",
              "        vertical-align: middle;\n",
              "    }\n",
              "\n",
              "    .dataframe tbody tr th {\n",
              "        vertical-align: top;\n",
              "    }\n",
              "\n",
              "    .dataframe thead th {\n",
              "        text-align: right;\n",
              "    }\n",
              "</style>\n",
              "<table border=\"1\" class=\"dataframe\">\n",
              "  <thead>\n",
              "    <tr style=\"text-align: right;\">\n",
              "      <th></th>\n",
              "      <th>datetime</th>\n",
              "    </tr>\n",
              "  </thead>\n",
              "  <tbody>\n",
              "    <tr>\n",
              "      <th>0</th>\n",
              "      <td>2011-01-20 00:00:00</td>\n",
              "    </tr>\n",
              "    <tr>\n",
              "      <th>1</th>\n",
              "      <td>2011-01-20 01:00:00</td>\n",
              "    </tr>\n",
              "    <tr>\n",
              "      <th>2</th>\n",
              "      <td>2011-01-20 02:00:00</td>\n",
              "    </tr>\n",
              "    <tr>\n",
              "      <th>3</th>\n",
              "      <td>2011-01-20 03:00:00</td>\n",
              "    </tr>\n",
              "    <tr>\n",
              "      <th>4</th>\n",
              "      <td>2011-01-20 04:00:00</td>\n",
              "    </tr>\n",
              "    <tr>\n",
              "      <th>...</th>\n",
              "      <td>...</td>\n",
              "    </tr>\n",
              "    <tr>\n",
              "      <th>6488</th>\n",
              "      <td>2012-12-31 19:00:00</td>\n",
              "    </tr>\n",
              "    <tr>\n",
              "      <th>6489</th>\n",
              "      <td>2012-12-31 20:00:00</td>\n",
              "    </tr>\n",
              "    <tr>\n",
              "      <th>6490</th>\n",
              "      <td>2012-12-31 21:00:00</td>\n",
              "    </tr>\n",
              "    <tr>\n",
              "      <th>6491</th>\n",
              "      <td>2012-12-31 22:00:00</td>\n",
              "    </tr>\n",
              "    <tr>\n",
              "      <th>6492</th>\n",
              "      <td>2012-12-31 23:00:00</td>\n",
              "    </tr>\n",
              "  </tbody>\n",
              "</table>\n",
              "<p>6493 rows × 1 columns</p>\n",
              "</div><br><label><b>dtype:</b> datetime64[ns]</label>"
            ]
          },
          "metadata": {},
          "execution_count": 4
        }
      ]
    },
    {
      "cell_type": "code",
      "source": [
        "# datetime에서 유용한 특성 추출\n",
        "train['year'] = train['datetime'].dt.year\n",
        "train['month'] = train['datetime'].dt.month\n",
        "train['day'] = train['datetime'].dt.day\n",
        "train['hour'] = train['datetime'].dt.hour\n",
        "train['dayofweek'] = train['datetime'].dt.dayofweek\n",
        "\n",
        "test['year'] = test['datetime'].dt.year\n",
        "test['month'] = test['datetime'].dt.month\n",
        "test['day'] = test['datetime'].dt.day\n",
        "test['hour'] = test['datetime'].dt.hour\n",
        "test['dayofweek'] = test['datetime'].dt.dayofweek"
      ],
      "metadata": {
        "id": "w0pyXlPFGPzf"
      },
      "execution_count": 5,
      "outputs": []
    },
    {
      "cell_type": "code",
      "source": [
        "# 사용할 특성 선택\n",
        "features = ['season', 'holiday', 'workingday', 'weather', 'temp',\n",
        "            'atemp', 'humidity', 'windspeed', 'year', 'month',\n",
        "            'day', 'hour', 'dayofweek']\n",
        "\n",
        "X = train[features].values\n",
        "y = train['count'].values"
      ],
      "metadata": {
        "id": "kTkNYHYvG51H"
      },
      "execution_count": 6,
      "outputs": []
    },
    {
      "cell_type": "code",
      "source": [
        "X"
      ],
      "metadata": {
        "colab": {
          "base_uri": "https://localhost:8080/"
        },
        "id": "hcQpjhdnHfLP",
        "outputId": "13258493-728e-4804-a9bb-0ec437ea5a9b"
      },
      "execution_count": 7,
      "outputs": [
        {
          "output_type": "execute_result",
          "data": {
            "text/plain": [
              "array([[ 1.,  0.,  0., ...,  1.,  0.,  5.],\n",
              "       [ 1.,  0.,  0., ...,  1.,  1.,  5.],\n",
              "       [ 1.,  0.,  0., ...,  1.,  2.,  5.],\n",
              "       ...,\n",
              "       [ 4.,  0.,  1., ..., 19., 21.,  2.],\n",
              "       [ 4.,  0.,  1., ..., 19., 22.,  2.],\n",
              "       [ 4.,  0.,  1., ..., 19., 23.,  2.]])"
            ]
          },
          "metadata": {},
          "execution_count": 7
        }
      ]
    },
    {
      "cell_type": "code",
      "source": [
        "y"
      ],
      "metadata": {
        "colab": {
          "base_uri": "https://localhost:8080/"
        },
        "id": "kBGdruo1HfY7",
        "outputId": "a29d6d49-f094-42c7-f4fe-f725a6c625f7"
      },
      "execution_count": 8,
      "outputs": [
        {
          "output_type": "execute_result",
          "data": {
            "text/plain": [
              "array([ 16,  40,  32, ..., 168, 129,  88])"
            ]
          },
          "metadata": {},
          "execution_count": 8
        }
      ]
    },
    {
      "cell_type": "code",
      "source": [
        "# 데이터 정규화\n",
        "scaler = StandardScaler()\n",
        "X = scaler.fit_transform(X)\n",
        "\n",
        "# 학습/검증 데이터 분리\n",
        "X_train, X_val, y_train, y_val = train_test_split(X, y, test_size=0.3, random_state=42)"
      ],
      "metadata": {
        "id": "q9ai2gmPHPm7"
      },
      "execution_count": 9,
      "outputs": []
    },
    {
      "cell_type": "code",
      "source": [
        "# PyTorch 데이터셋 및 데이터로더 생성\n",
        "class BikeDataset(torch.utils.data.Dataset):\n",
        "    def __init__(self, X, y):\n",
        "        self.X = torch.FloatTensor(X)\n",
        "        self.y = torch.FloatTensor(y)\n",
        "\n",
        "    def __len__(self):\n",
        "        return len(self.X)\n",
        "\n",
        "    def __getitem__(self, idx):\n",
        "        return self.X[idx], self.y[idx]\n",
        "\n",
        "train_dataset = BikeDataset(X_train, y_train)\n",
        "val_dataset = BikeDataset(X_val, y_val)\n",
        "\n",
        "train_loader = torch.utils.data.DataLoader(train_dataset, batch_size=16, shuffle=True)\n",
        "val_loader = torch.utils.data.DataLoader(val_dataset, batch_size=16, shuffle=False)"
      ],
      "metadata": {
        "id": "W4Jge98QHxpf"
      },
      "execution_count": 10,
      "outputs": []
    },
    {
      "cell_type": "code",
      "source": [
        "# 모델 정의\n",
        "class BikeDemandModel(nn.Module):\n",
        "    def __init__(self):\n",
        "        super(BikeDemandModel, self).__init__()\n",
        "        self.fc1 = nn.Linear(len(features), 16)\n",
        "        self.relu = nn.ReLU()\n",
        "        self.fc2 = nn.Linear(16, 1)\n",
        "        self.sigmoid = nn.Sigmoid()\n",
        "\n",
        "    def forward(self, x):\n",
        "        x = self.fc1(x)\n",
        "        x = self.relu(x)\n",
        "        x = self.fc2(x)\n",
        "        return self.sigmoid(x)\n"
      ],
      "metadata": {
        "id": "Cin59KjBH56-"
      },
      "execution_count": 11,
      "outputs": []
    },
    {
      "cell_type": "code",
      "source": [
        "\n",
        "# 모델, 손실 함수, 옵티마이저 초기화\n",
        "model = BikeDemandModel()\n",
        "criterion = nn.MSELoss()\n",
        "optimizer = torch.optim.Adam(model.parameters(), lr=0.001)\n",
        "\n",
        "# 모델 학습\n",
        "for epoch in range(100):\n",
        "    model.train()\n",
        "    for X_batch, y_batch in train_loader:\n",
        "        optimizer.zero_grad()\n",
        "        outputs = model(X_batch).squeeze()\n",
        "        loss = criterion(outputs, y_batch)\n",
        "        loss.backward()\n",
        "        optimizer.step()"
      ],
      "metadata": {
        "id": "kvWZsCzyIBvL"
      },
      "execution_count": 12,
      "outputs": []
    },
    {
      "cell_type": "code",
      "source": [
        "# 검증 데이터로 성능 평가\n",
        "model.eval()\n",
        "val_preds = []\n",
        "with torch.no_grad():\n",
        "    for X_batch, _ in val_loader:\n",
        "        outputs = model(X_batch).squeeze()\n",
        "        val_preds.append(outputs.numpy())\n",
        "\n",
        "val_preds = np.concatenate(val_preds)\n",
        "print('검증 데이터 RMSE:', np.sqrt(mean_squared_error(y_val, val_preds)))\n",
        "print('검증 데이터 MSE:', mean_absolute_error(y_val, val_preds))"
      ],
      "metadata": {
        "colab": {
          "base_uri": "https://localhost:8080/"
        },
        "id": "7xaN1w3PIDab",
        "outputId": "6646de84-6f4d-4108-d752-0b9ffa0a6cbf"
      },
      "execution_count": 13,
      "outputs": [
        {
          "output_type": "stream",
          "name": "stdout",
          "text": [
            "검증 데이터 RMSE: 262.75510567895805\n",
            "검증 데이터 MSE: 191.0496019596566\n"
          ]
        }
      ]
    },
    {
      "cell_type": "code",
      "source": [
        "# 테스트 데이터 예측\n",
        "X_test = scaler.transform(test[features].values)\n",
        "X_test_tensor = torch.FloatTensor(X_test)\n",
        "\n",
        "model.eval()\n",
        "with torch.no_grad():\n",
        "    test_pred = model(X_test_tensor).squeeze().numpy()\n",
        "\n",
        "# 제출 파일 생성\n",
        "# submission = pd.DataFrame({\n",
        "#     'datetime': test['datetime'],\n",
        "#     'count': test_pred\n",
        "# })\n",
        "# submission.to_csv('submission_pytorch.csv', index=False)\n",
        "# print('PyTorch 제출 파일이 생성되었습니다.')"
      ],
      "metadata": {
        "colab": {
          "base_uri": "https://localhost:8080/"
        },
        "id": "RM2NsnjDIFFb",
        "outputId": "57c1db75-c3d7-4056-c0d9-f2356c827bc5"
      },
      "execution_count": 14,
      "outputs": [
        {
          "output_type": "stream",
          "name": "stdout",
          "text": [
            "PyTorch 제출 파일이 생성되었습니다.\n"
          ]
        }
      ]
    },
    {
      "cell_type": "code",
      "source": [
        "import pandas as pd\n",
        "import numpy as np\n",
        "import torch\n",
        "import torch.nn as nn\n",
        "from sklearn.model_selection import train_test_split\n",
        "from sklearn.preprocessing import StandardScaler\n",
        "from sklearn.metrics import mean_squared_error, mean_absolute_error\n",
        "\n",
        "# 데이터 불러오기\n",
        "train = pd.read_csv('train.csv')\n",
        "test = pd.read_csv('test.csv')\n",
        "\n",
        "# datetime 컬럼을 datetime 타입으로 변환\n",
        "train['datetime'] = pd.to_datetime(train['datetime'])\n",
        "test['datetime'] = pd.to_datetime(test['datetime'])\n",
        "\n",
        "# datetime에서 유용한 특성 추출\n",
        "train['year'] = train['datetime'].dt.year\n",
        "train['month'] = train['datetime'].dt.month\n",
        "train['day'] = train['datetime'].dt.day\n",
        "train['hour'] = train['datetime'].dt.hour\n",
        "train['dayofweek'] = train['datetime'].dt.dayofweek\n",
        "\n",
        "test['year'] = test['datetime'].dt.year\n",
        "test['month'] = test['datetime'].dt.month\n",
        "test['day'] = test['datetime'].dt.day\n",
        "test['hour'] = test['datetime'].dt.hour\n",
        "test['dayofweek'] = test['datetime'].dt.dayofweek\n",
        "\n",
        "# 사용할 특성 선택\n",
        "features = ['season', 'holiday', 'workingday', 'weather', 'temp',\n",
        "            'atemp', 'humidity', 'windspeed', 'year', 'month',\n",
        "            'day', 'hour', 'dayofweek']\n",
        "\n",
        "X = train[features].values\n",
        "y = train['count'].values\n",
        "\n",
        "# 데이터 정규화\n",
        "scaler = StandardScaler()\n",
        "X = scaler.fit_transform(X)\n",
        "\n",
        "# 학습/검증 데이터 분리\n",
        "X_train, X_val, y_train, y_val = train_test_split(X, y, test_size=0.2, random_state=42)\n",
        "\n",
        "# PyTorch 데이터셋 및 데이터로더 생성\n",
        "class BikeDataset(torch.utils.data.Dataset):\n",
        "    def __init__(self, X, y):\n",
        "        self.X = torch.FloatTensor(X)\n",
        "        self.y = torch.FloatTensor(y)\n",
        "\n",
        "    def __len__(self):\n",
        "        return len(self.X)\n",
        "\n",
        "    def __getitem__(self, idx):\n",
        "        return self.X[idx], self.y[idx]\n",
        "\n",
        "train_dataset = BikeDataset(X_train, y_train)\n",
        "val_dataset = BikeDataset(X_val, y_val)\n",
        "\n",
        "train_loader = torch.utils.data.DataLoader(train_dataset, batch_size=32, shuffle=True)\n",
        "val_loader = torch.utils.data.DataLoader(val_dataset, batch_size=32, shuffle=False)\n",
        "\n",
        "# 모델 정의\n",
        "class BikeDemandModel(nn.Module):\n",
        "    def __init__(self):\n",
        "        super(BikeDemandModel, self).__init__()\n",
        "        self.fc1 = nn.Linear(len(features), 64)  # 첫 번째 은닉층\n",
        "        self.relu = nn.ReLU()                     # ReLU 활성화 함수\n",
        "        self.fc2 = nn.Linear(64, 32)              # 두 번째 은닉층\n",
        "        self.fc3 = nn.Linear(32, 1)               # 출력층 (활성화 함수 없음)\n",
        "\n",
        "    def forward(self, x):\n",
        "        x = self.fc1(x)                          # 첫 번째 선형층 통과\n",
        "        x = self.relu(x)                         # ReLU 활성화 함수 적용\n",
        "        x = self.fc2(x)                          # 두 번째 선형층 통과\n",
        "        x = self.fc3(x)                          # 출력층 통과 (선형)\n",
        "        return x                                 # 최종 출력 반환\n",
        "\n",
        "# 모델, 손실 함수, 옵티마이저 초기화\n",
        "model = BikeDemandModel()\n",
        "criterion = nn.MSELoss()                      # 손실 함수는 평균 제곱 오차\n",
        "optimizer = torch.optim.Adam(model.parameters(), lr=0.001)  # Adam 옵티마이저\n",
        "\n",
        "# 모델 학습\n",
        "for epoch in range(100):\n",
        "    model.train()                             # 학습 모드 설정\n",
        "    for X_batch, y_batch in train_loader:    # 배치 단위로 데이터 로딩\n",
        "        optimizer.zero_grad()                 # 기울기 초기화\n",
        "        outputs = model(X_batch).squeeze()   # 모델 예측\n",
        "        loss = criterion(outputs, y_batch)    # 손실 계산\n",
        "        loss.backward()                       # 기울기 계산\n",
        "        optimizer.step()                      # 파라미터 업데이트\n",
        "\n",
        "# 검증 데이터로 성능 평가\n",
        "model.eval()                                  # 평가 모드 설정\n",
        "val_preds = []                                # 검증 데이터 예측 결과 저장 리스트\n",
        "with torch.no_grad():                         # 기울기 계산을 하지 않도록 설정\n",
        "    for X_batch, _ in val_loader:            # 검증 데이터 배치 단위로 로딩\n",
        "        outputs = model(X_batch).squeeze()   # 모델 예측\n",
        "        val_preds.append(outputs.numpy())     # 예측 결과를 리스트에 저장\n",
        "\n",
        "val_preds = np.concatenate(val_preds)         # 리스트를 NumPy 배열로 변환\n",
        "print('검증 데이터 RMSE:', np.sqrt(mean_squared_error(y_val, val_preds)))  # RMSE 계산 및 출력\n",
        "print('검증 데이터 MAE:', mean_absolute_error(y_val, val_preds))            # MAE 계산 및 출력\n",
        "\n",
        "# 테스트 데이터 예측\n",
        "X_test = scaler.transform(test[features].values)  # 테스트 데이터 정규화\n",
        "X_test_tensor = torch.FloatTensor(X_test)         # 텐서로 변환\n",
        "model.eval()                                       # 평가 모드 설정\n",
        "with torch.no_grad():                              # 기울기 계산을 하지 않도록 설정\n",
        "    test_pred = model(X_test_tensor).squeeze().numpy()  # 테스트 데이터 예측\n",
        "\n",
        "# 제출 파일 생성\n",
        "submission = pd.DataFrame({\n",
        "    'datetime': test['datetime'],\n",
        "    'count': test_pred\n",
        "})\n",
        "submission.to_csv('submission_pytorch.csv', index=False)  # CSV 파일로 저장\n",
        "\n",
        "print('PyTorch 제출 파일이 생성되었습니다.')  # 제출 파일 생성 완료 메시지"
      ],
      "metadata": {
        "colab": {
          "base_uri": "https://localhost:8080/"
        },
        "id": "8PLMQLc2N3vO",
        "outputId": "8e2a4011-9978-40dc-b443-400e2e706f50"
      },
      "execution_count": 17,
      "outputs": [
        {
          "output_type": "stream",
          "name": "stdout",
          "text": [
            "검증 데이터 RMSE: 114.97188664462664\n",
            "검증 데이터 MAE: 85.84874975495211\n",
            "PyTorch 제출 파일이 생성되었습니다.\n"
          ]
        }
      ]
    },
    {
      "cell_type": "code",
      "source": [
        "import pandas as pd\n",
        "import numpy as np\n",
        "import torch\n",
        "import torch.nn as nn\n",
        "from sklearn.model_selection import train_test_split\n",
        "from sklearn.preprocessing import StandardScaler\n",
        "from sklearn.metrics import mean_squared_error, mean_absolute_error\n",
        "\n",
        "# 데이터 불러오기\n",
        "train = pd.read_csv('train.csv')\n",
        "test = pd.read_csv('test.csv')\n",
        "\n",
        "# datetime 컬럼을 datetime 타입으로 변환\n",
        "train['datetime'] = pd.to_datetime(train['datetime'])\n",
        "test['datetime'] = pd.to_datetime(test['datetime'])\n",
        "\n",
        "# datetime에서 유용한 특성 추출\n",
        "train['year'] = train['datetime'].dt.year\n",
        "train['month'] = train['datetime'].dt.month\n",
        "train['day'] = train['datetime'].dt.day\n",
        "train['hour'] = train['datetime'].dt.hour\n",
        "train['dayofweek'] = train['datetime'].dt.dayofweek\n",
        "\n",
        "test['year'] = test['datetime'].dt.year\n",
        "test['month'] = test['datetime'].dt.month\n",
        "test['day'] = test['datetime'].dt.day\n",
        "test['hour'] = test['datetime'].dt.hour\n",
        "test['dayofweek'] = test['datetime'].dt.dayofweek\n",
        "\n",
        "# 사용할 특성 선택\n",
        "features = ['season', 'holiday', 'workingday', 'weather', 'temp',\n",
        "            'atemp', 'humidity', 'windspeed', 'year', 'month',\n",
        "            'day', 'hour', 'dayofweek']\n",
        "\n",
        "X = train[features].values\n",
        "y = train['count'].values\n",
        "\n",
        "# 데이터 정규화\n",
        "scaler = StandardScaler()\n",
        "X = scaler.fit_transform(X)\n",
        "\n",
        "# 학습/검증 데이터 분리\n",
        "X_train, X_val, y_train, y_val = train_test_split(X, y, test_size=0.2, random_state=42)\n",
        "\n",
        "# PyTorch 데이터셋 및 데이터로더 생성\n",
        "class BikeDataset(torch.utils.data.Dataset):\n",
        "    def __init__(self, X, y):\n",
        "        self.X = torch.FloatTensor(X)\n",
        "        self.y = torch.FloatTensor(y)\n",
        "\n",
        "    def __len__(self):\n",
        "        return len(self.X)\n",
        "\n",
        "    def __getitem__(self, idx):\n",
        "        return self.X[idx], self.y[idx]\n",
        "\n",
        "train_dataset = BikeDataset(X_train, y_train)\n",
        "val_dataset = BikeDataset(X_val, y_val)\n",
        "\n",
        "train_loader = torch.utils.data.DataLoader(train_dataset, batch_size=32, shuffle=True)\n",
        "val_loader = torch.utils.data.DataLoader(val_dataset, batch_size=32, shuffle=False)\n",
        "\n",
        "# 모델 정의\n",
        "class BikeDemandModel(nn.Module):\n",
        "    def __init__(self):\n",
        "        super(BikeDemandModel, self).__init__()\n",
        "        self.fc1 = nn.Linear(len(features), 64)  # 첫 번째 은닉층\n",
        "        self.relu = nn.ReLU()                     # ReLU 활성화 함수\n",
        "        self.fc2 = nn.Linear(64, 32)              # 두 번째 은닉층\n",
        "        self.fc3 = nn.Linear(32, 1)               # 출력층 (활성화 함수 없음)\n",
        "\n",
        "    def forward(self, x):\n",
        "        x = self.fc1(x)                          # 첫 번째 선형층 통과\n",
        "        x = self.relu(x)                         # ReLU 활성화 함수 적용\n",
        "        x = self.fc2(x)                          # 두 번째 선형층 통과\n",
        "        x = self.relu(x)                         # ReLU 활성화 함수 적용\n",
        "        x = self.fc3(x)                          # 출력층 통과\n",
        "        x = torch.sigmoid(x)                     # 0과 1 사이로 변환\n",
        "        return x * 100                           # 0에서 100 사이로 변환\n",
        "\n",
        "# 모델, 손실 함수, 옵티마이저 초기화\n",
        "model = BikeDemandModel()\n",
        "criterion = nn.MSELoss()                      # 손실 함수는 평균 제곱 오차\n",
        "optimizer = torch.optim.Adam(model.parameters(), lr=0.001)  # Adam 옵티마이저\n",
        "\n",
        "# 모델 학습\n",
        "for epoch in range(100):\n",
        "    model.train()                             # 학습 모드 설정\n",
        "    for X_batch, y_batch in train_loader:    # 배치 단위로 데이터 로딩\n",
        "        optimizer.zero_grad()                 # 기울기 초기화\n",
        "        outputs = model(X_batch).squeeze()   # 모델 예측\n",
        "        loss = criterion(outputs, y_batch)    # 손실 계산\n",
        "        loss.backward()                       # 기울기 계산\n",
        "        optimizer.step()                      # 파라미터 업데이트\n",
        "\n",
        "# 검증 데이터로 성능 평가\n",
        "model.eval()                                  # 평가 모드 설정\n",
        "val_preds = []                                # 검증 데이터 예측 결과 저장 리스트\n",
        "with torch.no_grad():                         # 기울기 계산을 하지 않도록 설정\n",
        "    for X_batch, _ in val_loader:            # 검증 데이터 배치 단위로 로딩\n",
        "        outputs = model(X_batch).squeeze()   # 모델 예측\n",
        "        val_preds.append(outputs.numpy())     # 예측 결과를 리스트에 저장\n",
        "\n",
        "val_preds = np.concatenate(val_preds)         # 리스트를 NumPy 배열로 변환\n",
        "print('검증 데이터 RMSE:', np.sqrt(mean_squared_error(y_val, val_preds)))  # RMSE 계산 및 출력\n",
        "print('검증 데이터 MAE:', mean_absolute_error(y_val, val_preds))            # MAE 계산 및 출력\n",
        "\n",
        "# 테스트 데이터 예측\n",
        "X_test = scaler.transform(test[features].values)  # 테스트 데이터 정규화\n",
        "X_test_tensor = torch.FloatTensor(X_test)         # 텐서로 변환\n",
        "model.eval()                                       # 평가 모드 설정\n",
        "with torch.no_grad():                              # 기울기 계산을 하지 않도록 설정\n",
        "    test_pred = model(X_test_tensor).squeeze().numpy()  # 테스트 데이터 예측\n",
        "\n",
        "# 제출 파일 생성\n",
        "submission = pd.DataFrame({\n",
        "    'datetime': test['datetime'],\n",
        "    'count': test_pred\n",
        "})\n",
        "submission.to_csv('submission_pytorch.csv', index=False)  # CSV 파일로 저장\n",
        "\n",
        "print('PyTorch 제출 파일이 생성되었습니다.')  # 제출 파일 생성 완료 메시지\n"
      ],
      "metadata": {
        "colab": {
          "base_uri": "https://localhost:8080/"
        },
        "id": "WxZdnVb6SaoX",
        "outputId": "39cc2065-d0dc-4080-e9e0-6394c9bc1c4c"
      },
      "execution_count": 16,
      "outputs": [
        {
          "output_type": "stream",
          "name": "stdout",
          "text": [
            "검증 데이터 RMSE: 199.1278539072376\n",
            "검증 데이터 MAE: 123.68705905074916\n",
            "PyTorch 제출 파일이 생성되었습니다.\n"
          ]
        }
      ]
    }
  ]
}